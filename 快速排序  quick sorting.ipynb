{
 "cells": [
  {
   "cell_type": "code",
   "execution_count": 1,
   "metadata": {},
   "outputs": [],
   "source": [
    "import numpy as np"
   ]
  },
  {
   "cell_type": "code",
   "execution_count": 2,
   "metadata": {},
   "outputs": [
    {
     "name": "stdout",
     "output_type": "stream",
     "text": [
      "[38 13 73 10 76  6 80 65 17  2 77 72  7 26 51 21 19 85 12 29 30 15 51 69\n",
      " 88 88 95 97 87 14 10  8 64 62 23 58  2  1 61 82  9 89 14 48 73 31 72  4\n",
      " 71 22]\n"
     ]
    }
   ],
   "source": [
    "np.random.seed(1)\n",
    "A = np.random.randint(1,100,50)\n",
    "print(A)"
   ]
  },
  {
   "cell_type": "code",
   "execution_count": 3,
   "metadata": {},
   "outputs": [
    {
     "data": {
      "text/plain": [
       "38"
      ]
     },
     "execution_count": 3,
     "metadata": {},
     "output_type": "execute_result"
    }
   ],
   "source": [
    "A[0]"
   ]
  },
  {
   "cell_type": "code",
   "execution_count": 4,
   "metadata": {},
   "outputs": [
    {
     "name": "stdout",
     "output_type": "stream",
     "text": [
      "[ 1  2  2  4  6  7  8  9 10 10 12 13 14 14 15 17 19 21 22 23 26 29 30 31\n",
      " 38 48 51 51 58 61 62 64 65 69 71 72 72 73 73 76 77 80 82 85 87 88 88 89\n",
      " 95 97]\n"
     ]
    },
    {
     "data": {
      "text/plain": [
       "array([38, 13, 73, 10, 76,  6, 80, 65, 17,  2, 77, 72,  7, 26, 51, 21, 19,\n",
       "       85, 12, 29, 30, 15, 51, 69, 88, 88, 95, 97, 87, 14, 10,  8, 64, 62,\n",
       "       23, 58,  2,  1, 61, 82,  9, 89, 14, 48, 73, 31, 72,  4, 71, 22])"
      ]
     },
     "execution_count": 4,
     "metadata": {},
     "output_type": "execute_result"
    }
   ],
   "source": [
    "print(np.sort(A))\n",
    "B = np.sort(A)\n",
    "A"
   ]
  },
  {
   "cell_type": "code",
   "execution_count": 5,
   "metadata": {},
   "outputs": [],
   "source": [
    "def QuickSort_partition(A,p,r):\n",
    "    # p  start from 0, is true index\n",
    "    # choose first one as pivot\n",
    "    pivot = A[p]\n",
    "    # the left of i is the number <= pivot \n",
    "    i = p\n",
    "    for j in range(p+1,r+1):\n",
    "        if A[j]<= pivot:\n",
    "            i+=1\n",
    "            A[i],A[j] = A[j],A[i]\n",
    "            \n",
    "        else: \n",
    "            pass\n",
    "    A[i],A[p]=A[p],A[i]\n",
    "    return i\n",
    "            \n",
    "def QuickSort(A,p,r):\n",
    "    if p< r:\n",
    "        q = QuickSort_partition(A,p,r)\n",
    "        QuickSort(A,p,q-1)\n",
    "        QuickSort(A,q+1,r)\n",
    "    return A"
   ]
  },
  {
   "cell_type": "code",
   "execution_count": 6,
   "metadata": {},
   "outputs": [
    {
     "name": "stdout",
     "output_type": "stream",
     "text": [
      "[ 1  2  2  4  6  7  8  9 10 10 12 13 14 14 15 17 19 21 22 23 26 29 30 31\n",
      " 38 48 51 51 58 61 62 64 65 69 71 72 72 73 73 76 77 80 82 85 87 88 88 89\n",
      " 95 97]\n"
     ]
    }
   ],
   "source": [
    "QS =QuickSort(A,0,len(A)-1)\n",
    "print(QS)"
   ]
  },
  {
   "cell_type": "code",
   "execution_count": 7,
   "metadata": {},
   "outputs": [
    {
     "data": {
      "text/plain": [
       "array([ True,  True,  True,  True,  True,  True,  True,  True,  True,\n",
       "        True,  True,  True,  True,  True,  True,  True,  True,  True,\n",
       "        True,  True,  True,  True,  True,  True,  True,  True,  True,\n",
       "        True,  True,  True,  True,  True,  True,  True,  True,  True,\n",
       "        True,  True,  True,  True,  True,  True,  True,  True,  True,\n",
       "        True,  True,  True,  True,  True])"
      ]
     },
     "execution_count": 7,
     "metadata": {},
     "output_type": "execute_result"
    }
   ],
   "source": [
    "QS == B"
   ]
  },
  {
   "cell_type": "code",
   "execution_count": null,
   "metadata": {},
   "outputs": [],
   "source": []
  },
  {
   "cell_type": "code",
   "execution_count": null,
   "metadata": {},
   "outputs": [],
   "source": []
  }
 ],
 "metadata": {
  "kernelspec": {
   "display_name": "Python 3",
   "language": "python",
   "name": "python3"
  },
  "language_info": {
   "codemirror_mode": {
    "name": "ipython",
    "version": 3
   },
   "file_extension": ".py",
   "mimetype": "text/x-python",
   "name": "python",
   "nbconvert_exporter": "python",
   "pygments_lexer": "ipython3",
   "version": "3.7.3"
  }
 },
 "nbformat": 4,
 "nbformat_minor": 2
}

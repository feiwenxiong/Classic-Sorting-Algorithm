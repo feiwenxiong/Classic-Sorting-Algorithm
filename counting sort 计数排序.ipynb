{
 "cells": [
  {
   "cell_type": "code",
   "execution_count": 1,
   "metadata": {},
   "outputs": [],
   "source": [
    "import numpy as np"
   ]
  },
  {
   "cell_type": "code",
   "execution_count": 2,
   "metadata": {},
   "outputs": [],
   "source": [
    "def counting_sort(A):\n",
    "    k=max(A)\n",
    "    n = len(A)\n",
    "    B = [0 for i in range(n)]  # to store the result \n",
    "    C = [0 for i in range(k+1)] # auxiliary array\n",
    "    # To start\n",
    "    for j in range(n):\n",
    "        C[A[j]] +=1     # C[i] ={key =i}\n",
    "    for i in range(1,k+1): # C[i] = {key <= i}\n",
    "        C[i] = C[i]+C[i-1]\n",
    "    for j in range(n-1,-1,-1): # or range(n)\n",
    "        B[C[A[j]]-1] = A[j]\n",
    "        C[A[j]] -=1\n",
    "    return B"
   ]
  },
  {
   "cell_type": "code",
   "execution_count": 3,
   "metadata": {},
   "outputs": [
    {
     "name": "stdout",
     "output_type": "stream",
     "text": [
      "[41 45  8 18 44 69 91 41 65 85 58 58 87  8 69 35 54 59 20 18 76 43 90 73\n",
      " 21 24 81 99 21 78 90 47 12  5 19 35 91 80 85 37 40 12 89 96 28 70 52 18\n",
      " 82 69]\n"
     ]
    }
   ],
   "source": [
    "A= np.random.randint(1,101,50)\n",
    "print(A)"
   ]
  },
  {
   "cell_type": "code",
   "execution_count": 4,
   "metadata": {},
   "outputs": [
    {
     "name": "stdout",
     "output_type": "stream",
     "text": [
      "[5, 8, 8, 12, 12, 18, 18, 18, 19, 20, 21, 21, 24, 28, 35, 35, 37, 40, 41, 41, 43, 44, 45, 47, 52, 54, 58, 58, 59, 65, 69, 69, 69, 70, 73, 76, 78, 80, 81, 82, 85, 85, 87, 89, 90, 90, 91, 91, 96, 99]\n"
     ]
    }
   ],
   "source": [
    "B=counting_sort(A)\n",
    "print(B)"
   ]
  },
  {
   "cell_type": "code",
   "execution_count": 5,
   "metadata": {},
   "outputs": [
    {
     "data": {
      "text/plain": [
       "array([ True,  True,  True,  True,  True,  True,  True,  True,  True,\n",
       "        True,  True,  True,  True,  True,  True,  True,  True,  True,\n",
       "        True,  True,  True,  True,  True,  True,  True,  True,  True,\n",
       "        True,  True,  True,  True,  True,  True,  True,  True,  True,\n",
       "        True,  True,  True,  True,  True,  True,  True,  True,  True,\n",
       "        True,  True,  True,  True,  True])"
      ]
     },
     "execution_count": 5,
     "metadata": {},
     "output_type": "execute_result"
    }
   ],
   "source": [
    "B == np.sort(A)"
   ]
  },
  {
   "cell_type": "code",
   "execution_count": null,
   "metadata": {},
   "outputs": [],
   "source": []
  }
 ],
 "metadata": {
  "kernelspec": {
   "display_name": "Python 3",
   "language": "python",
   "name": "python3"
  },
  "language_info": {
   "codemirror_mode": {
    "name": "ipython",
    "version": 3
   },
   "file_extension": ".py",
   "mimetype": "text/x-python",
   "name": "python",
   "nbconvert_exporter": "python",
   "pygments_lexer": "ipython3",
   "version": "3.6.8"
  }
 },
 "nbformat": 4,
 "nbformat_minor": 2
}

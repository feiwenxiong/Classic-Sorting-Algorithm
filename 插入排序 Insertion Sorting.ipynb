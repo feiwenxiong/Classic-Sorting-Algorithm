{
 "cells": [
  {
   "cell_type": "code",
   "execution_count": 1,
   "metadata": {},
   "outputs": [],
   "source": [
    "import numpy as np"
   ]
  },
  {
   "cell_type": "code",
   "execution_count": 2,
   "metadata": {},
   "outputs": [],
   "source": [
    "np.random.seed(4)\n",
    "A= np.random.randint(1,100,50)"
   ]
  },
  {
   "cell_type": "code",
   "execution_count": 3,
   "metadata": {},
   "outputs": [
    {
     "data": {
      "text/plain": [
       "array([47, 56, 70,  2, 88, 73, 51, 10, 59, 95, 56, 56, 58, 37, 51, 45, 39,\n",
       "       53,  4,  1, 56, 22, 22, 74, 39, 57, 67, 47, 31,  9, 50, 67, 59, 88,\n",
       "       33, 41, 43, 46, 34, 33, 29,  4, 80, 99, 96, 58, 51, 18, 82, 90])"
      ]
     },
     "execution_count": 3,
     "metadata": {},
     "output_type": "execute_result"
    }
   ],
   "source": [
    "A"
   ]
  },
  {
   "cell_type": "code",
   "execution_count": 10,
   "metadata": {},
   "outputs": [
    {
     "name": "stdout",
     "output_type": "stream",
     "text": [
      "[ 1  2  4  4  9 10 18 22 22 29 31 33 33 34 37 39 39 41 43 45 46 47 47 50\n",
      " 51 51 51 53 56 56 56 56 57 58 58 59 59 67 67 70 73 74 80 82 88 88 90 95\n",
      " 96 99]\n"
     ]
    }
   ],
   "source": [
    "# Insertion sorting\n",
    "\n",
    "for j in range(1,len(A)):\n",
    "    key = A[j]\n",
    "    i = j-1\n",
    "    # insert A[j] to sorted sequence A[1,....j-1]\n",
    "    while i>=0 and A[i]> key:\n",
    "        A[i+1] = A[i]\n",
    "        i=i-1\n",
    "    A[i+1] = key\n",
    "\n",
    "print(A)\n"
   ]
  },
  {
   "cell_type": "code",
   "execution_count": null,
   "metadata": {},
   "outputs": [],
   "source": []
  }
 ],
 "metadata": {
  "kernelspec": {
   "display_name": "Python 3",
   "language": "python",
   "name": "python3"
  },
  "language_info": {
   "codemirror_mode": {
    "name": "ipython",
    "version": 3
   },
   "file_extension": ".py",
   "mimetype": "text/x-python",
   "name": "python",
   "nbconvert_exporter": "python",
   "pygments_lexer": "ipython3",
   "version": "3.7.3"
  }
 },
 "nbformat": 4,
 "nbformat_minor": 2
}

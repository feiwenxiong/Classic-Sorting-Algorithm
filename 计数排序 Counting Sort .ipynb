{
 "cells": [
  {
   "cell_type": "code",
   "execution_count": 1,
   "metadata": {},
   "outputs": [],
   "source": [
    "import numpy as np"
   ]
  },
  {
   "cell_type": "code",
   "execution_count": 2,
   "metadata": {},
   "outputs": [],
   "source": [
    "def counting_sort(A):\n",
    "    n = len(A)\n",
    "    k=max(A)     # set input array are in the range from 0 to k\n",
    "    result = [0 for i in range(n)] # result \n",
    "    c = [0 for i in range(k+1)] # 0....k  for  counting series\n",
    "    for j in range(len(A)):\n",
    "        c[A[j]] +=1            # count the frequecies\n",
    "    for i in range(1,len(c)):\n",
    "        c[i] = c[i]+c[i-1]  # store the data <= i\n",
    "    for j in range(len(A)-1,-1,-1):\n",
    "        result[c[A[j]]-1] = A[j]    # there are c[A[j]] numbers less or equal than this number A[j]\n",
    "        c[A[j]]-=1                 # once put one number in reusult, the counting should be less\n",
    "    return result\n",
    "    "
   ]
  },
  {
   "cell_type": "code",
   "execution_count": 3,
   "metadata": {},
   "outputs": [
    {
     "name": "stdout",
     "output_type": "stream",
     "text": [
      "waiting for sorting:\n",
      " [68 30 77 69 23 12 95 68 22 87 62 95 94 49 15 58 42 13 46 15 27 47 51 50\n",
      " 65 52 37  3 36 47 90 68 56 74 31 32 56 46 80 35 48  2 76 23 95 57  7 20\n",
      " 36  9] \n",
      "\n",
      "sorted:\n",
      " [ 2  3  7  9 12 13 15 15 20 22 23 23 27 30 31 32 35 36 36 37 42 46 46 47\n",
      " 47 48 49 50 51 52 56 56 57 58 62 65 68 68 68 69 74 76 77 80 87 90 94 95\n",
      " 95 95]\n"
     ]
    }
   ],
   "source": [
    "\n",
    "A = np.random.randint(1,101,50)\n",
    "B= np.sort(A)\n",
    "print('waiting for sorting:\\n',A,'\\n')\n",
    "print('sorted:\\n',B)"
   ]
  },
  {
   "cell_type": "code",
   "execution_count": 4,
   "metadata": {},
   "outputs": [
    {
     "name": "stdout",
     "output_type": "stream",
     "text": [
      "[2, 3, 7, 9, 12, 13, 15, 15, 20, 22, 23, 23, 27, 30, 31, 32, 35, 36, 36, 37, 42, 46, 46, 47, 47, 48, 49, 50, 51, 52, 56, 56, 57, 58, 62, 65, 68, 68, 68, 69, 74, 76, 77, 80, 87, 90, 94, 95, 95, 95]\n"
     ]
    }
   ],
   "source": [
    "result = counting_sort(A)\n",
    "print(result)"
   ]
  },
  {
   "cell_type": "code",
   "execution_count": 5,
   "metadata": {},
   "outputs": [
    {
     "data": {
      "text/plain": [
       "array([ True,  True,  True,  True,  True,  True,  True,  True,  True,\n",
       "        True,  True,  True,  True,  True,  True,  True,  True,  True,\n",
       "        True,  True,  True,  True,  True,  True,  True,  True,  True,\n",
       "        True,  True,  True,  True,  True,  True,  True,  True,  True,\n",
       "        True,  True,  True,  True,  True,  True,  True,  True,  True,\n",
       "        True,  True,  True,  True,  True])"
      ]
     },
     "execution_count": 5,
     "metadata": {},
     "output_type": "execute_result"
    }
   ],
   "source": [
    "result==B"
   ]
  },
  {
   "cell_type": "code",
   "execution_count": null,
   "metadata": {},
   "outputs": [],
   "source": []
  }
 ],
 "metadata": {
  "kernelspec": {
   "display_name": "Python 3",
   "language": "python",
   "name": "python3"
  },
  "language_info": {
   "codemirror_mode": {
    "name": "ipython",
    "version": 3
   },
   "file_extension": ".py",
   "mimetype": "text/x-python",
   "name": "python",
   "nbconvert_exporter": "python",
   "pygments_lexer": "ipython3",
   "version": "3.7.3"
  }
 },
 "nbformat": 4,
 "nbformat_minor": 2
}

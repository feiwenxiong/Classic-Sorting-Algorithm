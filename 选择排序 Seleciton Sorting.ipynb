{
 "cells": [
  {
   "cell_type": "code",
   "execution_count": 69,
   "metadata": {},
   "outputs": [
    {
     "data": {
      "text/plain": [
       "array([47, 56, 70,  2, 88, 73, 51, 10, 59, 95, 56, 56, 58, 37, 51, 45, 39,\n",
       "       53,  4,  1, 56, 22, 22, 74, 39, 57, 67, 47, 31,  9, 50, 67, 59, 88,\n",
       "       33, 41, 43, 46, 34, 33, 29,  4, 80, 99, 96, 58, 51, 18, 82, 90])"
      ]
     },
     "execution_count": 69,
     "metadata": {},
     "output_type": "execute_result"
    }
   ],
   "source": [
    "import numpy as np\n",
    "np.random.seed(4)\n",
    "A=np.random.randint(1,100,50)\n",
    "A"
   ]
  },
  {
   "cell_type": "code",
   "execution_count": 70,
   "metadata": {},
   "outputs": [
    {
     "data": {
      "text/plain": [
       "array([ 1,  2,  4,  4,  9, 10, 18, 22, 22, 29, 31, 33, 33, 34, 37, 39, 39,\n",
       "       41, 43, 45, 46, 47, 47, 50, 51, 51, 51, 53, 56, 56, 56, 56, 57, 58,\n",
       "       58, 59, 59, 67, 67, 70, 73, 74, 80, 82, 88, 88, 90, 95, 96, 99])"
      ]
     },
     "execution_count": 70,
     "metadata": {},
     "output_type": "execute_result"
    }
   ],
   "source": [
    "np.sort(A)"
   ]
  },
  {
   "cell_type": "code",
   "execution_count": 72,
   "metadata": {},
   "outputs": [
    {
     "name": "stdout",
     "output_type": "stream",
     "text": [
      "[ 1  2  4  4  9 10 18 22 22 29 31 33 33 34 37 39 39 41 43 45 46 47 47 50\n",
      " 51 51 51 53 56 56 56 56 57 58 58 59 59 67 67 70 73 74 80 82 88 88 90 95\n",
      " 96 99]\n"
     ]
    }
   ],
   "source": [
    "for i in range(len(A)-1):\n",
    "    pick = i\n",
    "    for j in range(i+1,len(A)):\n",
    "        if A[pick]>A[j]:\n",
    "            pick =j\n",
    "    A[i],A[pick] = A[pick],A[i]\n",
    "print(A)\n",
    "        \n",
    "        \n",
    "        "
   ]
  },
  {
   "cell_type": "code",
   "execution_count": 79,
   "metadata": {},
   "outputs": [],
   "source": [
    "def Insertion_sort(array):\n",
    "    for i in range(len(array)-1):\n",
    "        pick = i\n",
    "        for j in range(i+1,len(array)):\n",
    "            if array[pick]>array[j]:\n",
    "                pick =j\n",
    "        array[i],array[pick] = array[pick],array[i]\n",
    "    print(array)"
   ]
  },
  {
   "cell_type": "code",
   "execution_count": 80,
   "metadata": {},
   "outputs": [
    {
     "data": {
      "text/plain": [
       "array([160,  36, 159,  66, 132,  87, 120,  75, 149,   8, 180,  11,  42,\n",
       "       144,  42,   4,  75,  99, 152, 103,   8, 106,  53, 157, 116, 193,\n",
       "       166,  33,  26,  38,   6,  75, 153,  30,  37, 190,   3, 148,  23,\n",
       "        29])"
      ]
     },
     "execution_count": 80,
     "metadata": {},
     "output_type": "execute_result"
    }
   ],
   "source": [
    "B = np.random.randint(1,200,40)\n",
    "B"
   ]
  },
  {
   "cell_type": "code",
   "execution_count": 81,
   "metadata": {},
   "outputs": [
    {
     "data": {
      "text/plain": [
       "array([  3,   4,   6,   8,   8,  11,  23,  26,  29,  30,  33,  36,  37,\n",
       "        38,  42,  42,  53,  66,  75,  75,  75,  87,  99, 103, 106, 116,\n",
       "       120, 132, 144, 148, 149, 152, 153, 157, 159, 160, 166, 180, 190,\n",
       "       193])"
      ]
     },
     "execution_count": 81,
     "metadata": {},
     "output_type": "execute_result"
    }
   ],
   "source": [
    "np.sort(B)"
   ]
  },
  {
   "cell_type": "code",
   "execution_count": 82,
   "metadata": {},
   "outputs": [
    {
     "name": "stdout",
     "output_type": "stream",
     "text": [
      "[  3   4   6   8   8  11  23  26  29  30  33  36  37  38  42  42  53  66\n",
      "  75  75  75  87  99 103 106 116 120 132 144 148 149 152 153 157 159 160\n",
      " 166 180 190 193]\n"
     ]
    }
   ],
   "source": [
    "Insertion_sort(B)"
   ]
  },
  {
   "cell_type": "code",
   "execution_count": null,
   "metadata": {},
   "outputs": [],
   "source": []
  }
 ],
 "metadata": {
  "kernelspec": {
   "display_name": "Python 3",
   "language": "python",
   "name": "python3"
  },
  "language_info": {
   "codemirror_mode": {
    "name": "ipython",
    "version": 3
   },
   "file_extension": ".py",
   "mimetype": "text/x-python",
   "name": "python",
   "nbconvert_exporter": "python",
   "pygments_lexer": "ipython3",
   "version": "3.7.3"
  }
 },
 "nbformat": 4,
 "nbformat_minor": 2
}

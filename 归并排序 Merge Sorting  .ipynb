{
 "cells": [
  {
   "cell_type": "code",
   "execution_count": 1,
   "metadata": {},
   "outputs": [],
   "source": [
    "import numpy as np"
   ]
  },
  {
   "cell_type": "code",
   "execution_count": 2,
   "metadata": {},
   "outputs": [
    {
     "name": "stdout",
     "output_type": "stream",
     "text": [
      "[47 56 70  2 88 73 51 10 59 95 56 56 58 37 51 45 39 53  4  1 56 22 22 74\n",
      " 39 57 67 47 31  9 50 67 59 88 33 41 43 46 34 33 29  4 80 99 96 58 51 18\n",
      " 82 90]\n"
     ]
    }
   ],
   "source": [
    "np.random.seed(4)\n",
    "A = np.random.randint(1,101,50)\n",
    "print(A)"
   ]
  },
  {
   "cell_type": "code",
   "execution_count": 3,
   "metadata": {},
   "outputs": [
    {
     "name": "stdout",
     "output_type": "stream",
     "text": [
      "[ 1  2  4  4  9 10 18 22 22 29 31 33 33 34 37 39 39 41 43 45 46 47 47 50\n",
      " 51 51 51 53 56 56 56 56 57 58 58 59 59 67 67 70 73 74 80 82 88 88 90 95\n",
      " 96 99]\n"
     ]
    }
   ],
   "source": [
    "B = np.sort(A)\n",
    "print(B)"
   ]
  },
  {
   "cell_type": "code",
   "execution_count": 4,
   "metadata": {},
   "outputs": [],
   "source": [
    "# recurseively merge sort the array \n",
    "def merge_sort(A):\n",
    "    if len(A) <=1 :\n",
    "        return A \n",
    "    mid = len(A)//2\n",
    "    left,right = merge_sort(A[:mid]),merge_sort(A[mid:])\n",
    "    return merge(left,right)\n",
    "\n",
    "\n",
    "\n",
    "# do the merge with sorting the sorted array\n",
    "#  i means the left pointer of left array , j means the right pointer of right array\n",
    "def merge(left,right):\n",
    "    result = []\n",
    "    i= j = 0\n",
    "    while i < len(left) and j < len(right):\n",
    "        if left[i] <= right[j]:\n",
    "            result.append(left[i])\n",
    "            i+=1\n",
    "        else:\n",
    "            result.append(right[j])\n",
    "            j+=1\n",
    "    result.extend(left[i:])\n",
    "    result.extend(right[j:])\n",
    "    return result\n",
    " \n",
    "\n",
    "    "
   ]
  },
  {
   "cell_type": "code",
   "execution_count": 5,
   "metadata": {},
   "outputs": [
    {
     "name": "stdout",
     "output_type": "stream",
     "text": [
      "[1, 2, 4, 4, 9, 10, 18, 22, 22, 29, 31, 33, 33, 34, 37, 39, 39, 41, 43, 45, 46, 47, 47, 50, 51, 51, 51, 53, 56, 56, 56, 56, 57, 58, 58, 59, 59, 67, 67, 70, 73, 74, 80, 82, 88, 88, 90, 95, 96, 99]\n"
     ]
    }
   ],
   "source": [
    "result = merge_sort(A)\n",
    "print(result)"
   ]
  },
  {
   "cell_type": "code",
   "execution_count": 6,
   "metadata": {},
   "outputs": [
    {
     "data": {
      "text/plain": [
       "array([ True,  True,  True,  True,  True,  True,  True,  True,  True,\n",
       "        True,  True,  True,  True,  True,  True,  True,  True,  True,\n",
       "        True,  True,  True,  True,  True,  True,  True,  True,  True,\n",
       "        True,  True,  True,  True,  True,  True,  True,  True,  True,\n",
       "        True,  True,  True,  True,  True,  True,  True,  True,  True,\n",
       "        True,  True,  True,  True,  True])"
      ]
     },
     "execution_count": 6,
     "metadata": {},
     "output_type": "execute_result"
    }
   ],
   "source": [
    "result == B "
   ]
  },
  {
   "cell_type": "code",
   "execution_count": null,
   "metadata": {},
   "outputs": [],
   "source": []
  }
 ],
 "metadata": {
  "kernelspec": {
   "display_name": "Python 3",
   "language": "python",
   "name": "python3"
  },
  "language_info": {
   "codemirror_mode": {
    "name": "ipython",
    "version": 3
   },
   "file_extension": ".py",
   "mimetype": "text/x-python",
   "name": "python",
   "nbconvert_exporter": "python",
   "pygments_lexer": "ipython3",
   "version": "3.7.3"
  }
 },
 "nbformat": 4,
 "nbformat_minor": 2
}

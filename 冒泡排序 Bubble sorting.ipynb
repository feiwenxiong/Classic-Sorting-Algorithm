{
 "cells": [
  {
   "cell_type": "code",
   "execution_count": 1,
   "metadata": {},
   "outputs": [
    {
     "name": "stdout",
     "output_type": "stream",
     "text": [
      "[29 86 59 28  3 15 79 72 99 38 92 79 20 68 34 80 95 73 96 42 10 18 45 47\n",
      "  9 29 71 37 79 86 49 74 95  3 25  4 95 27 19  8 84 44 91 95 97 97 59 25\n",
      " 45 45]\n"
     ]
    }
   ],
   "source": [
    "import numpy as np\n",
    "A = np.random.randint(1,100,50)\n",
    "print(A)"
   ]
  },
  {
   "cell_type": "code",
   "execution_count": 2,
   "metadata": {},
   "outputs": [
    {
     "name": "stdout",
     "output_type": "stream",
     "text": [
      "[ 3  3  4  8  9 10 15 18 19 20 25 25 27 28 29 29 34 37 38 42 44 45 45 45\n",
      " 47 49 59 59 68 71 72 73 74 79 79 79 80 84 86 86 91 92 95 95 95 95 96 97\n",
      " 97 99]\n"
     ]
    }
   ],
   "source": [
    "print(np.sort(A))"
   ]
  },
  {
   "cell_type": "code",
   "execution_count": 3,
   "metadata": {},
   "outputs": [
    {
     "name": "stdout",
     "output_type": "stream",
     "text": [
      "[ 3  3  4  8  9 10 15 18 19 20 25 25 27 28 29 29 34 37 38 42 44 45 45 45\n",
      " 47 49 59 59 68 71 72 73 74 79 79 79 80 84 86 86 91 92 95 95 95 95 96 97\n",
      " 97 99]\n"
     ]
    }
   ],
   "source": [
    "for i in range(len(A)-1):\n",
    "    for j in range(len(A)-1):\n",
    "        if A[j]>A[j+1]:\n",
    "            A[j],A[j+1]=A[j+1],A[j]\n",
    "print(A)"
   ]
  },
  {
   "cell_type": "code",
   "execution_count": 4,
   "metadata": {},
   "outputs": [],
   "source": [
    "def Bubble_sort(A):\n",
    "    for i in range(len(A)-1):\n",
    "        for j in range(len(A)-1):\n",
    "            if A[j]>A[j+1]:\n",
    "                A[j],A[j+1]=A[j+1],A[j]\n",
    "    print(A)"
   ]
  },
  {
   "cell_type": "code",
   "execution_count": 5,
   "metadata": {},
   "outputs": [
    {
     "name": "stdout",
     "output_type": "stream",
     "text": [
      "[ 39  63 191 165  87 190 143 194  37  92 116 108  12  53  18 182  69 147\n",
      "  76 185  20 147  93 170  63 130 179 198  87 160  44  29 109 171 122  61\n",
      "  64  61 141 135]\n"
     ]
    }
   ],
   "source": [
    "B = np.random.randint(1,200,40)\n",
    "print(B)"
   ]
  },
  {
   "cell_type": "code",
   "execution_count": 6,
   "metadata": {},
   "outputs": [
    {
     "name": "stdout",
     "output_type": "stream",
     "text": [
      "[ 12  18  20  29  37  39  44  53  61  61  63  63  64  69  76  87  87  92\n",
      "  93 108 109 116 122 130 135 141 143 147 147 160 165 170 171 179 182 185\n",
      " 190 191 194 198]\n"
     ]
    }
   ],
   "source": [
    "print(np.sort(B))"
   ]
  },
  {
   "cell_type": "code",
   "execution_count": 7,
   "metadata": {},
   "outputs": [
    {
     "name": "stdout",
     "output_type": "stream",
     "text": [
      "[ 12  18  20  29  37  39  44  53  61  61  63  63  64  69  76  87  87  92\n",
      "  93 108 109 116 122 130 135 141 143 147 147 160 165 170 171 179 182 185\n",
      " 190 191 194 198]\n"
     ]
    }
   ],
   "source": [
    "Bubble_sort(B)"
   ]
  },
  {
   "cell_type": "code",
   "execution_count": null,
   "metadata": {},
   "outputs": [],
   "source": []
  }
 ],
 "metadata": {
  "kernelspec": {
   "display_name": "Python 3",
   "language": "python",
   "name": "python3"
  },
  "language_info": {
   "codemirror_mode": {
    "name": "ipython",
    "version": 3
   },
   "file_extension": ".py",
   "mimetype": "text/x-python",
   "name": "python",
   "nbconvert_exporter": "python",
   "pygments_lexer": "ipython3",
   "version": "3.7.3"
  }
 },
 "nbformat": 4,
 "nbformat_minor": 2
}

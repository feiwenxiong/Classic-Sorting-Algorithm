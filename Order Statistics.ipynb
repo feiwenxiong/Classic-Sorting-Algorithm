{
 "cells": [
  {
   "cell_type": "code",
   "execution_count": 1,
   "metadata": {},
   "outputs": [],
   "source": [
    "#select ith smallest of n elements : the elements  wth rank i \n",
    "# using randomized_partification\n",
    "import numpy as np"
   ]
  },
  {
   "cell_type": "code",
   "execution_count": 2,
   "metadata": {},
   "outputs": [],
   "source": [
    "def rand_select(A,p,q,i):\n",
    "    if p ==q:               \n",
    "        return A[p-1]       # why -1 ? the resaon is that python starts from 0 which means if i=6, we get 7th  number!  \n",
    "    pivot = rand_partition(A,p,q)\n",
    "    k= pivot-p+1\n",
    "    if i == k:\n",
    "        return A[pivot-1]\n",
    "    if i < k:\n",
    "        return rand_select(A,p,pivot-1,i)\n",
    "    else:\n",
    "        return rand_select(A,pivot+1,q,i-k)\n",
    "    "
   ]
  },
  {
   "cell_type": "code",
   "execution_count": 3,
   "metadata": {},
   "outputs": [],
   "source": [
    "def rand_partition(A,p,q):\n",
    "    pivot = int(np.random.randint(p,q,1)) # array can't be index\n",
    "    i = p \n",
    "    key = A[pivot]\n",
    "    A[pivot],A[p] = A[p],A[pivot]\n",
    "    for j in range(p+1,q):\n",
    "        if A[j] > key:\n",
    "            pass\n",
    "        else:\n",
    "            i = i+1\n",
    "            A[j],A[i]= A[i],A[j]\n",
    "    A[p],A[i] = A[i],A[p]\n",
    "    return i"
   ]
  },
  {
   "cell_type": "code",
   "execution_count": 4,
   "metadata": {},
   "outputs": [
    {
     "name": "stdout",
     "output_type": "stream",
     "text": [
      "[1, 3, 4, 6, 13, 17, 18, 22, 25, 26, 32, 34, 38, 40, 41, 46, 47, 50, 56, 58, 59, 63, 66, 69, 73, 76, 78, 79, 83, 88, 89, 90, 91, 93, 94, 95, 97, 98, 99]\n"
     ]
    }
   ],
   "source": [
    "# sorted distinct version\n",
    "A=list(set(np.random.randint(0,100,50)))\n",
    "print(A)\n"
   ]
  },
  {
   "cell_type": "code",
   "execution_count": 5,
   "metadata": {},
   "outputs": [
    {
     "name": "stdout",
     "output_type": "stream",
     "text": [
      "The rank 6  is: 17\n",
      "From selection:   17\n"
     ]
    }
   ],
   "source": [
    "print(\"The rank 6  is:\",A[6-1])\n",
    "res = rand_select(A,1,10,6)\n",
    "print(\"From selection:  \",res)"
   ]
  },
  {
   "cell_type": "code",
   "execution_count": 6,
   "metadata": {},
   "outputs": [
    {
     "data": {
      "text/plain": [
       "array([9])"
      ]
     },
     "execution_count": 6,
     "metadata": {},
     "output_type": "execute_result"
    }
   ],
   "source": [
    "np.random.randint(1,11,1)"
   ]
  },
  {
   "cell_type": "code",
   "execution_count": 7,
   "metadata": {},
   "outputs": [
    {
     "data": {
      "text/plain": [
       "3"
      ]
     },
     "execution_count": 7,
     "metadata": {},
     "output_type": "execute_result"
    }
   ],
   "source": [
    " int(np.random.randint(1,4,1))"
   ]
  },
  {
   "cell_type": "code",
   "execution_count": null,
   "metadata": {},
   "outputs": [],
   "source": []
  }
 ],
 "metadata": {
  "kernelspec": {
   "display_name": "Python 3",
   "language": "python",
   "name": "python3"
  },
  "language_info": {
   "codemirror_mode": {
    "name": "ipython",
    "version": 3
   },
   "file_extension": ".py",
   "mimetype": "text/x-python",
   "name": "python",
   "nbconvert_exporter": "python",
   "pygments_lexer": "ipython3",
   "version": "3.7.3"
  }
 },
 "nbformat": 4,
 "nbformat_minor": 2
}
